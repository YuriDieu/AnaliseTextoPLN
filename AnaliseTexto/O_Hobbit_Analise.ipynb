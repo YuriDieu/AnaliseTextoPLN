{
  "cells": [
    {
      "cell_type": "markdown",
      "metadata": {},
      "source": [
        "Projeto desenvolvido com base em materiais da disciplina de PLN da PUCPR."
      ]
    },
    {
      "cell_type": "markdown",
      "metadata": {
        "id": "BFoZxGZP3R7b"
      },
      "source": [
        "Considere o corpus a seguir:"
      ]
    },
    {
      "cell_type": "code",
      "execution_count": 1,
      "metadata": {
        "id": "ifPyuILo3av0"
      },
      "outputs": [],
      "source": [
        "# A seguir um corpus composto por resumos dos primeiros 12 capítulos do livro \"Senhor dos Anéis\"\n",
        "# Traduzidos por Luciano Soares e Reinaldo Imrahil - disponível em: https://www.valinor.com.br/82\n",
        "corpus = [\n",
        "          \"Capítulo 1: Uma festa muito esperada\\nSessenta anos passaram desde que Bilbo Bolseiro, o herói de O Hobbit, tinha voltado de sua jornada. Ele é conhecido por muitos, tanto pela sua riqueza legendária como pelo fato de que a idade não parece afetá-lo. Ele anuncia uma grande celebração em honra do 111o aniversário dele e o 33o aniversário do seu sobrinho Frodo, que ele tinha adotado como herdeiro alguns anos atrás e trouxera para viver no Bolsão. A festa estava esplêndida, e um grande número de hobbits foi convidado. Mas Bilbo sentia-se estranho ultimamente, e decidiu que precisava de umas férias e deixaria o Condado; assim, depois de fazer um discurso depois do jantar, na frente dos 144 amigos mais íntimos dele e de Frodo, e também de seus parentes, ele coloca o anel mágico e desaparece, causando grande surpresa. Ele fala mais uma vez com Gandalf antes de partir, e quase muda a sua intenção original de deixar o anel com Frodo; mas o mago o convence a manter a idéia, e Bilbo parte, muito aliviado e mais feliz do que nunca. Gandalf adverte Frodo para não usar o anel. No dia seguinte Frodo está ocupado, pois Bilbo tinha deixado presentes de despedida para muitos hobbits, e agora uma multidão de pessoas se encontra no Bolsão, muitos deles cavando ao redor e procurando os tesouros imaginários de Bilbo. Gandalf parte, e não volta por muito tempo.\",\n",
        "          \"Capítulo 2: A Sombra do Passado\\nGandalf visita Frodo só algumas vezes pelos anos que seguem. Frodo se acostuma a ser o mestre do Bolsão, e faz amizade com alguns dos hobbits mais jovem [por exemplo com Peregrin Tûk e Merry Brandebuque] enquanto a maioria o considera esquisito, como Bilbo. Rumores de eventos estranhos fora do Condado surgem, como o da ascensão do Poder Escuro na Terra de Mordor, embora a maioria dos hobbits não acreditasse nisso. No qüinquagésimo ano da vida de Frodo, Gandalf o visita novamente e eles têm uma conversa longa sobre o anel que Frodo tinha herdado de Bilbo. Gandalf explica a Frodo a natureza e a história do anel, que é de fato o maior dos Anéis de Poder e foi feito há muito tempo por Sauron, o Senhor do Escuro de Mordor. Sauron o está procurando agora avidamente. Achando o anel o seu poder cresceria imensamente. O anel deveria ser destruído para que Sauron perdesse seu poder, mas só poderia ser destruído em Orodruin, a Montanha da Perdição em Mordor. Parece que Sauron já tinha ouvido falar de Bilbo e do Condado através de Gollum; assim, o Condado provavelmente não é mais um lugar seguro para Frodo. Ele decide partir, acompanhado por Sam Gamgi, o seu jovem jardineiro, que [ao contrário da maioria dos hobbits] acredita nas antigas histórias e adoraria ver os Elfos\",\n",
        "          \"Capítulo 3: Três não é demais\\nFrodo vende o Bolsão aos Sacola-Bolseiros e compra uma casa na Terra dos Buques, a leste do Condado, onde ele tinha passado sua infância. No seu qüinquagésimo aniversário, ele deixa o Bolsão e parte com seu amigo Pippin [Peregrin Tûk] e Sam Gamgi; Gandalf o deixou por algum tempo para procurar notícias do que acontecia na Terra-média, e ainda não voltou, o que preocupa muito Frodo. No dia seguinte, os três hobbits notam que estão sendo seguidos pelos misteriosos Cavaleiros Negros. Não sabem exatamente quem eles são, e Frodo, cuidadoso, decide não deixar que os Cavaleiros os vejam. Eles conhecem, durante a noite, um grupo vagante de Altos-elfos conduzido por Gildor Inglorion; Frodo fala por muito tempo com Gildor, e o elfo o aconselha a tentar alcançar Valfenda apesar da ausência de Gandalf, e conta-lhe que os Cavaleiros Negros são os perigosos Servos do Inimigo.\",\n",
        "          \"Capítulo 4: Um atalho para cogumelos\\nNo dia seguinte, Frodo decide pegar um atalho para o rio Brandevin, onde Merry deveria encontrá-los naquele dia; queriam chegar lá mais cedo, e evitar serem vistos novamente pelos Cavaleiros Negros. De fato, eles percebem que um dos Cavaleiros está na estrada e decidem sair dela. Depois de uma passagem longa e desagradável pelos bosques, eles alcançam a propriedade de Fazendeiro Magote, que é conhecido por soltar seus cachorros em qualquer invasor que venha a colher os seus cogumelos [como o próprio Frodo tinha experimentado na sua mocidade]. Contudo, ele é bastante amigável, especialmente por conhecer bastante Pippin; ele conta a Frodo e seus amigos que pouco tempo antes um cavaleiro negro estranho e amedrontador perguntara-lhe por um Bolseiro . Para ajudar Frodo a alcançar a balsa do Brandevin da maneira mais segura e rápida possível, Magote leva os três hobbits com sua carroça , e eles acham Merry esperando-os ansiosamente.\",\n",
        "          \"Capítulo 5: Conspiração Desmascarada\\nConforme eles cruzam o Rio, notam uma figura negra parada, e cada vez mais próxima. Eles vão para a casa nova de Frodo em Cricôncavo, e falam sobre as suas aventuras na viagem. Frodo pretende falar finalmente para os amigos que vai partir o mais cedo possível quando, para o seu assombro, eles dizem que já sabem sobre o Anel, e sobre o propósito de sua viagem, e que pretendem acompanhá-lo e ajudá-lo. Depois do choque inicial, Frodo aceita a ajuda deles alegremente, e eles decidem partir no dia seguinte, bem cedo, pela Floresta Velha, um lugar conhecido como esquisito e perigoso, para evitar as estradas que provavelmente serão vigiadas pelos Cavaleiros.\",\n",
        "          \"Capítulo 6: A Floresta Velha\\nOs hobbits entram na Floresta Velha e logo começam a sentir sua estranheza, como se as árvores estivessem vigiando-os e os odiassem. Eles chegam à Clareira onde os hobbits queimaram uma grande quantidade de árvores há muito tempo atrás. De lá, eles seguem um caminho que os conduz a uma colina que sobe fora da Floresta, e de lá, como eles eventualmente notam, para o Rio Withywindle, a parte central e mais estranha da floresta. Eles querem evitar isso e deixar o caminho, mas acham o terreno sempre mais difícil na direção em que gostariam de ir. Eles caem em um barranco que é muito íngreme para ser escalado novamente e, seguindo-o, chegam ao Withywindle e acham um caminho que corre ao longo dele. Este caminho os traz a um velho salgueiro, perto do qual começam a sentir-se sonolentos de repente. Frodo, Merry e Pippin dormem, e a árvore lança Frodo na água e captura Merry e Pippin debaixo de suas raízes. Sam e Frodo não podem salvá-los, e correm ao longo do caminho, enquanto pedem por ajuda, desesperados. Eles encontram Tom Bombadil, um homem estranho que canta canções absurdas. Tom canta a melodia certa, e o salgueiro liberta Merry e Pippin; então Tom convida os hobits para irem à casa dele, onde vive com Fruta DOuro.\",\n",
        "          \"Capítulo 7: Na Casa de Tom Bombadil\\nEles comem um jantar magnífico e então vão dormir, e cada um deles tem sonhos diferentes e estranhos. No dia os hobbits falam com Tom Bombadil durante o dia inteiro. Tom lhes fala muito sobre a Floresta, os tipos de árvores e animais, o Velho Homem-Salgueiro, e a história antiga da Terra-média, embora de maneira enigmática. Para a surpresa deles, descobrem que o Anel não tem nenhum poder sobre Bombadil. Ele lhes dá conselhos no dia seguinte, e lhes ensina uma rima parra chamá-lo se eles precisarem da ajuda dele.\",\n",
        "          \"Capítulo 8: Névoa nas Colinas dos Túmulos\\nNo dia seguinte, os hobbits deixam a casa de Tom, pretendendo cruzar os Túmulos. Eles fazem um progresso bom pela manhã, e ao redor de meio-dia param para descansar. Estranhamente há um grande pedra fria que se levanta no topo plano de uma colina. Eles adormecem e são despertados por um pôr-do-sol cercado pela névoa. Eles imediatamente se encaminham na direção que eles acreditam ser a mais direta para a Estrada; algum tempo depois Frodo, que estava na frente, passa entre duas pedras paradas e nota que os outros se foram. Ele começa a gritar por ajuda, e é capturado por uma Criatura Tumular. Ele desperta novamente dentro de um túmulo, nota que os outros estão inconscientes perto dele e que uma mão está rastejando na direção deles. Frodo canta a rima que Tom Bombadil tinha lhes ensinado um dia antes, e realmente Tom vem muito rápido, e a luz do dia destrói a Criatura Tumular. Tom desperta os outros três hobits, e dá a cada um deles uma espada, tirada dos tesouros que estavam dentro do túmulo. Ele também traz os pôneis deles que fugiram à noite, e os acompanha durante algum tempo, até as fronteiras das terras dele. Os hobbits partem, e chegam à aldeia de Bri pela noite.\",\n",
        "          \"Capítulo 9: No Pônei Saltitante\\nO hobbits entram no Pônei Saltitante, uma hospedaria grande em Bri. Um grupo diversificado de hóspedes já esta reunido lá: hobbits locais e homens, anões em viagem, homens estranhos do Sul, e um Guardião misterioso conhecido como Passolargo. Depois da ceia, Frodo, Sam e Pippin decidem unir-se aos hóspedes; Pippin chama a atenção contando uma história sobre o Prefeito do Condado e, empolgado, começa a contar sobre a festa de despedida de Bilbo. Frodo não quer mencionar o desaparecimento de Bilbo, e para interromper Pippin salta sobre uma mesa e começa a cantar e dançar. Ele salta e cai da mesa, e enquanto cai o Anel desliza para o dedo dele, e ele desaparece. Isto causa muita ansiedade, e apesar das explicações posteriores a maioria dos hóspedes deixa o aposento. Passolargo parece saber o real nome de Frodo, e a verdadeira causa do seu desaparecimento, e lhe pede que tenham uma conversa depois. Carrapicho, o estalajadeiro, também se lembra de algo e pede para ter uma conversa particular com Frodo.\",\n",
        "          \"Capítulo 10: Passolargo\\nPassolargo vai falar com Frodo, Sam e Pippin. Ele se oferece para ser o guia deles, e parece já saber muito de Frodo; porém, por causa da sua aparência, os hobbits não confiam nele. Então Carrapicho chega e explica que Gandalf tinha deixado uma carta para um certo Frodo Bolseiro, que Carrapicho esquecera de enviar ao Condado há vários meses atrás. Frodo e seus companheiros batem com a descrição que Gandalf dera a Carrapicho, e este dá a carta a Frodo. Entre outras coisas, essa carta contém um conselho de Gandalf para aceitar a ajuda de um amigo seu, um homem chamado Passolargo [com o verdadeiro nome Aragorn], se eles chegassem a conhecê-lo. Assim, Frodo decide aceitar a ajuda dele como um guia para Valfenda. Merry, que saiu para pegar um ar fresco antes, agora volta e conta que viu os Cavaleiros Negros, e parece que eles têm espiões em Bri. Eles decidem não ir para os quartos designados a eles, e dormem no quarto de hóspedes, depois de trancarem as janelas e a porta.\",\n",
        "          \"Capítulo 11: Uma Faca no Escuro\\nNaquela mesma noite, os Cavaleiros Negros arrombam a casa de Frodo em Cricôncavo, descobrem que Frodo não esta lá, e cavalgam para Bri com grande pressa. Eles arrombam a hospedaria, ou mais especificamente o quarto onde os hóspedes hobbits normalmente dormem. Os hobbits não são descobertos, mas todos os cavalos e pôneis da hospedaria fugiram com medo. No dia seguinte eles compram um pônei e mantimentos [muito mais do que eles poderiam carregar em suas costas]; eles vão em direção a Valfenda, e Passolargo os conduz pela floresta para uma colina chamada Topo do Vento, que oferece uma visão de cima de uma área circunvizinha bem grande. Parece que Gandalf tinha estado lá três dias antes deles. Naquela noite eles são atacados por cinco dos Cavaleiros em uma depressão debaixo do Topo do Vento; Frodo não consegue resistir ao desejo de colocar o Anel, e imediatamente depois de fazer isso percebe que ele pode ver os Cavaleiros muito claramente apesar da escuridão. O capitão dos Cavaleiros ataca Frodo, que o golpeia nos pés mas acaba ferido e perde a consciência .\",\n",
        "          \"Capítulo 12: Fuga para o Vau\\nPassolargo faz o melhor possível para curar Frodo, mas este só poderia receber o tratamento em Valfenda, que eles deveriam alcançar o mais cedo possível. Eles cruzam o Rio Fontegris e, evitando a estrada, caminham pelos ermos e acabam alcançando a região dos trolls onde Bilbo tivera a sua primeira aventura tantos anos atrás. Eles têm que cruzar uma linha de colinas para se pôr mais perto novamente da Estrada, já que a única esperança deles de alcançar Valfenda a tempo é seguir a Estrada que cruza o rio Ruidoságua, ou Bruinen, no vau de Bruinen. Na Estrada eles conhecem Glorfindel, um Senhor Élfico que foi enviado de Valfenda para achá-los e ajudá-los. Eles se aproximam do Vau de Bruinen e são emboscados pelos Cavaleiros Negros. Frodo consegue escapar e cruzar o rio no cavalo de Glorfindel. Então uma grande inundação vem rio abaixo e leva os Cavaleiros.\"\n",
        "]"
      ]
    },
    {
      "cell_type": "markdown",
      "metadata": {
        "id": "9Z96xLcD1pc6"
      },
      "source": [
        "Remoção do cabeçalho de cada início de capítulo (e.g., \"Capítulo 1:\", \"Capítulo 2:\") com RegEx."
      ]
    },
    {
      "cell_type": "code",
      "execution_count": 2,
      "metadata": {
        "id": "jogXuJPg3POU"
      },
      "outputs": [],
      "source": [
        "#Importando a biblioteca de expressões regulares (RegEx)\n",
        "import re"
      ]
    },
    {
      "cell_type": "code",
      "execution_count": null,
      "metadata": {
        "colab": {
          "base_uri": "https://localhost:8080/"
        },
        "id": "pkj6eO_sQLi9",
        "outputId": "24783dfa-4c6c-41fb-fce8-a77716f70e4d"
      },
      "outputs": [],
      "source": [
        "#RegEx para retirar os \"capítulos\" de cada um dos índices\n",
        "padrao = r\"(^\\w+\\s)[0-9]+: \"\n",
        "\n",
        "#Nova_lista recebe cada um dos itens da lista sem \"Capítulo 1, 2,...,12\"\n",
        "nova_lista = [re.sub(padrao, '', item) for item in corpus]\n",
        "\n",
        "print(nova_lista)"
      ]
    },
    {
      "cell_type": "markdown",
      "metadata": {
        "id": "2KHzNy7B5Fsc"
      },
      "source": [
        "A partir daqui, será apresentado a quantidade de caracteres, de palavras, de palavras únicas e de sentenças de cada capítulo e será apresentado em um DataFrame do Pandas."
      ]
    },
    {
      "cell_type": "code",
      "execution_count": 4,
      "metadata": {
        "id": "9qo438975l4L"
      },
      "outputs": [],
      "source": [
        "#Importando a biblioteca de Natural Language ToolKit\n",
        "import nltk"
      ]
    },
    {
      "cell_type": "code",
      "execution_count": 5,
      "metadata": {
        "id": "SbvftHGjXwrJ"
      },
      "outputs": [],
      "source": [
        "#Importação do módulo tokenize para manipulação de texto (tokenização)\n",
        "from nltk import tokenize"
      ]
    },
    {
      "cell_type": "code",
      "execution_count": null,
      "metadata": {
        "colab": {
          "base_uri": "https://localhost:8080/"
        },
        "id": "Xs5rNhIzYAOB",
        "outputId": "af155d7a-31d6-45e3-bced-65be5cf7ffed"
      },
      "outputs": [],
      "source": [
        "#Download do tokenizador 'punkt'\n",
        "nltk.download('punkt')"
      ]
    },
    {
      "cell_type": "code",
      "execution_count": null,
      "metadata": {
        "colab": {
          "base_uri": "https://localhost:8080/"
        },
        "id": "7gcxwPWsY_9y",
        "outputId": "1afdd2a9-1da6-477f-9054-d6f956e9033a"
      },
      "outputs": [],
      "source": [
        "#Criação de uma variável que receberá o texto tokenizado\n",
        "nova_lista_tokenizada = [item.split() for item in nova_lista]\n",
        "\n",
        "print(nova_lista_tokenizada)"
      ]
    },
    {
      "cell_type": "code",
      "execution_count": null,
      "metadata": {
        "colab": {
          "base_uri": "https://localhost:8080/"
        },
        "id": "6X_TZ_KfaxjR",
        "outputId": "ea3d1ad6-9eb4-45b9-bac1-1e599ab9f9e4"
      },
      "outputs": [],
      "source": [
        "#Verificação item por item (ou seja, capítulo) da lista em relação à quantidade de caraceteres\n",
        "for item in nova_lista:\n",
        "  qtd_caracteres = len(item)\n",
        "  print(qtd_caracteres)\n"
      ]
    },
    {
      "cell_type": "code",
      "execution_count": null,
      "metadata": {
        "colab": {
          "base_uri": "https://localhost:8080/"
        },
        "id": "pHFXKnVff-Dk",
        "outputId": "59be52c3-95ec-4d4f-8605-05d2cfdff0f5"
      },
      "outputs": [],
      "source": [
        "#Verificação da quantidade de tokens por capítulo\n",
        "for tokens in nova_lista_tokenizada:\n",
        "  qtd_tokens = len(tokens)\n",
        "  print(qtd_tokens)"
      ]
    },
    {
      "cell_type": "code",
      "execution_count": null,
      "metadata": {
        "colab": {
          "base_uri": "https://localhost:8080/"
        },
        "id": "RTe5ZoUygcQN",
        "outputId": "3b699b26-27dc-453e-fc3d-ca95590041c2"
      },
      "outputs": [],
      "source": [
        "#verificação de palavras únicas em cada capítulo\n",
        "for tokens in nova_lista_tokenizada:\n",
        "  qtd_palavras_unicas = len(set(tokens))\n",
        "  print(qtd_palavras_unicas)"
      ]
    },
    {
      "cell_type": "code",
      "execution_count": 11,
      "metadata": {
        "id": "aF-GrEKEhAz8"
      },
      "outputs": [],
      "source": [
        "#Importação da função sent_tokenize para processamento de sentenças do texto\n",
        "from nltk import sent_tokenize"
      ]
    },
    {
      "cell_type": "code",
      "execution_count": null,
      "metadata": {
        "colab": {
          "base_uri": "https://localhost:8080/"
        },
        "id": "pgv87AO6l3aK",
        "outputId": "6de3d8c4-2bea-4439-ba5d-1874cb948ce7"
      },
      "outputs": [],
      "source": [
        "#Verificação de quantas sentenças tem em cada capítulo\n",
        "for item in nova_lista:\n",
        "  sentencas = nltk.sent_tokenize(item)\n",
        "  num_sentencas = len(sentencas)\n",
        "  print(num_sentencas)"
      ]
    },
    {
      "cell_type": "code",
      "execution_count": 13,
      "metadata": {
        "id": "UNemTxh5l4Gr"
      },
      "outputs": [],
      "source": [
        "#importando a biblioteca pandas para análise de dados\n",
        "import pandas as pd"
      ]
    },
    {
      "cell_type": "code",
      "execution_count": 14,
      "metadata": {
        "colab": {
          "base_uri": "https://localhost:8080/",
          "height": 426
        },
        "id": "FF-jkv3Lzq4A",
        "outputId": "af567336-2626-4f05-9a5a-692c11adac17"
      },
      "outputs": [
        {
          "data": {
            "application/vnd.google.colaboratory.intrinsic+json": {
              "summary": "{\n  \"name\": \"o_hobbit_df\",\n  \"rows\": 12,\n  \"fields\": [\n    {\n      \"column\": \"qtd_caracteres\",\n      \"properties\": {\n        \"dtype\": \"number\",\n        \"std\": 245,\n        \"min\": 541,\n        \"max\": 1348,\n        \"num_unique_values\": 12,\n        \"samples\": [\n          1089,\n          992,\n          1348\n        ],\n        \"semantic_type\": \"\",\n        \"description\": \"\"\n      }\n    },\n    {\n      \"column\": \"qtd_palavras\",\n      \"properties\": {\n        \"dtype\": \"number\",\n        \"std\": 44,\n        \"min\": 95,\n        \"max\": 235,\n        \"num_unique_values\": 12,\n        \"samples\": [\n          185,\n          176,\n          235\n        ],\n        \"semantic_type\": \"\",\n        \"description\": \"\"\n      }\n    },\n    {\n      \"column\": \"qtd_palavras_unicas\",\n      \"properties\": {\n        \"dtype\": \"number\",\n        \"std\": 24,\n        \"min\": 72,\n        \"max\": 154,\n        \"num_unique_values\": 10,\n        \"samples\": [\n          120,\n          145,\n          143\n        ],\n        \"semantic_type\": \"\",\n        \"description\": \"\"\n      }\n    },\n    {\n      \"column\": \"num_sentencas\",\n      \"properties\": {\n        \"dtype\": \"number\",\n        \"std\": 2,\n        \"min\": 4,\n        \"max\": 11,\n        \"num_unique_values\": 7,\n        \"samples\": [\n          9,\n          10,\n          8\n        ],\n        \"semantic_type\": \"\",\n        \"description\": \"\"\n      }\n    }\n  ]\n}",
              "type": "dataframe",
              "variable_name": "o_hobbit_df"
            },
            "text/html": [
              "\n",
              "  <div id=\"df-9c2e056f-bdbb-4fd1-8903-71ab40430cab\" class=\"colab-df-container\">\n",
              "    <div>\n",
              "<style scoped>\n",
              "    .dataframe tbody tr th:only-of-type {\n",
              "        vertical-align: middle;\n",
              "    }\n",
              "\n",
              "    .dataframe tbody tr th {\n",
              "        vertical-align: top;\n",
              "    }\n",
              "\n",
              "    .dataframe thead th {\n",
              "        text-align: right;\n",
              "    }\n",
              "</style>\n",
              "<table border=\"1\" class=\"dataframe\">\n",
              "  <thead>\n",
              "    <tr style=\"text-align: right;\">\n",
              "      <th></th>\n",
              "      <th>qtd_caracteres</th>\n",
              "      <th>qtd_palavras</th>\n",
              "      <th>qtd_palavras_unicas</th>\n",
              "      <th>num_sentencas</th>\n",
              "    </tr>\n",
              "  </thead>\n",
              "  <tbody>\n",
              "    <tr>\n",
              "      <th>1</th>\n",
              "      <td>1348</td>\n",
              "      <td>235</td>\n",
              "      <td>154</td>\n",
              "      <td>9</td>\n",
              "    </tr>\n",
              "    <tr>\n",
              "      <th>2</th>\n",
              "      <td>1299</td>\n",
              "      <td>228</td>\n",
              "      <td>145</td>\n",
              "      <td>10</td>\n",
              "    </tr>\n",
              "    <tr>\n",
              "      <th>3</th>\n",
              "      <td>892</td>\n",
              "      <td>149</td>\n",
              "      <td>110</td>\n",
              "      <td>5</td>\n",
              "    </tr>\n",
              "    <tr>\n",
              "      <th>4</th>\n",
              "      <td>965</td>\n",
              "      <td>155</td>\n",
              "      <td>115</td>\n",
              "      <td>5</td>\n",
              "    </tr>\n",
              "    <tr>\n",
              "      <th>5</th>\n",
              "      <td>684</td>\n",
              "      <td>114</td>\n",
              "      <td>87</td>\n",
              "      <td>4</td>\n",
              "    </tr>\n",
              "    <tr>\n",
              "      <th>6</th>\n",
              "      <td>1250</td>\n",
              "      <td>220</td>\n",
              "      <td>143</td>\n",
              "      <td>10</td>\n",
              "    </tr>\n",
              "    <tr>\n",
              "      <th>7</th>\n",
              "      <td>541</td>\n",
              "      <td>95</td>\n",
              "      <td>72</td>\n",
              "      <td>5</td>\n",
              "    </tr>\n",
              "    <tr>\n",
              "      <th>8</th>\n",
              "      <td>1215</td>\n",
              "      <td>216</td>\n",
              "      <td>143</td>\n",
              "      <td>11</td>\n",
              "    </tr>\n",
              "    <tr>\n",
              "      <th>9</th>\n",
              "      <td>1031</td>\n",
              "      <td>173</td>\n",
              "      <td>121</td>\n",
              "      <td>8</td>\n",
              "    </tr>\n",
              "    <tr>\n",
              "      <th>10</th>\n",
              "      <td>992</td>\n",
              "      <td>176</td>\n",
              "      <td>120</td>\n",
              "      <td>8</td>\n",
              "    </tr>\n",
              "    <tr>\n",
              "      <th>11</th>\n",
              "      <td>1089</td>\n",
              "      <td>185</td>\n",
              "      <td>132</td>\n",
              "      <td>7</td>\n",
              "    </tr>\n",
              "    <tr>\n",
              "      <th>12</th>\n",
              "      <td>880</td>\n",
              "      <td>152</td>\n",
              "      <td>110</td>\n",
              "      <td>7</td>\n",
              "    </tr>\n",
              "  </tbody>\n",
              "</table>\n",
              "</div>\n",
              "    <div class=\"colab-df-buttons\">\n",
              "\n",
              "  <div class=\"colab-df-container\">\n",
              "    <button class=\"colab-df-convert\" onclick=\"convertToInteractive('df-9c2e056f-bdbb-4fd1-8903-71ab40430cab')\"\n",
              "            title=\"Convert this dataframe to an interactive table.\"\n",
              "            style=\"display:none;\">\n",
              "\n",
              "  <svg xmlns=\"http://www.w3.org/2000/svg\" height=\"24px\" viewBox=\"0 -960 960 960\">\n",
              "    <path d=\"M120-120v-720h720v720H120Zm60-500h600v-160H180v160Zm220 220h160v-160H400v160Zm0 220h160v-160H400v160ZM180-400h160v-160H180v160Zm440 0h160v-160H620v160ZM180-180h160v-160H180v160Zm440 0h160v-160H620v160Z\"/>\n",
              "  </svg>\n",
              "    </button>\n",
              "\n",
              "  <style>\n",
              "    .colab-df-container {\n",
              "      display:flex;\n",
              "      gap: 12px;\n",
              "    }\n",
              "\n",
              "    .colab-df-convert {\n",
              "      background-color: #E8F0FE;\n",
              "      border: none;\n",
              "      border-radius: 50%;\n",
              "      cursor: pointer;\n",
              "      display: none;\n",
              "      fill: #1967D2;\n",
              "      height: 32px;\n",
              "      padding: 0 0 0 0;\n",
              "      width: 32px;\n",
              "    }\n",
              "\n",
              "    .colab-df-convert:hover {\n",
              "      background-color: #E2EBFA;\n",
              "      box-shadow: 0px 1px 2px rgba(60, 64, 67, 0.3), 0px 1px 3px 1px rgba(60, 64, 67, 0.15);\n",
              "      fill: #174EA6;\n",
              "    }\n",
              "\n",
              "    .colab-df-buttons div {\n",
              "      margin-bottom: 4px;\n",
              "    }\n",
              "\n",
              "    [theme=dark] .colab-df-convert {\n",
              "      background-color: #3B4455;\n",
              "      fill: #D2E3FC;\n",
              "    }\n",
              "\n",
              "    [theme=dark] .colab-df-convert:hover {\n",
              "      background-color: #434B5C;\n",
              "      box-shadow: 0px 1px 3px 1px rgba(0, 0, 0, 0.15);\n",
              "      filter: drop-shadow(0px 1px 2px rgba(0, 0, 0, 0.3));\n",
              "      fill: #FFFFFF;\n",
              "    }\n",
              "  </style>\n",
              "\n",
              "    <script>\n",
              "      const buttonEl =\n",
              "        document.querySelector('#df-9c2e056f-bdbb-4fd1-8903-71ab40430cab button.colab-df-convert');\n",
              "      buttonEl.style.display =\n",
              "        google.colab.kernel.accessAllowed ? 'block' : 'none';\n",
              "\n",
              "      async function convertToInteractive(key) {\n",
              "        const element = document.querySelector('#df-9c2e056f-bdbb-4fd1-8903-71ab40430cab');\n",
              "        const dataTable =\n",
              "          await google.colab.kernel.invokeFunction('convertToInteractive',\n",
              "                                                    [key], {});\n",
              "        if (!dataTable) return;\n",
              "\n",
              "        const docLinkHtml = 'Like what you see? Visit the ' +\n",
              "          '<a target=\"_blank\" href=https://colab.research.google.com/notebooks/data_table.ipynb>data table notebook</a>'\n",
              "          + ' to learn more about interactive tables.';\n",
              "        element.innerHTML = '';\n",
              "        dataTable['output_type'] = 'display_data';\n",
              "        await google.colab.output.renderOutput(dataTable, element);\n",
              "        const docLink = document.createElement('div');\n",
              "        docLink.innerHTML = docLinkHtml;\n",
              "        element.appendChild(docLink);\n",
              "      }\n",
              "    </script>\n",
              "  </div>\n",
              "\n",
              "\n",
              "<div id=\"df-374e003a-37c2-4594-9210-9d2e529b5e42\">\n",
              "  <button class=\"colab-df-quickchart\" onclick=\"quickchart('df-374e003a-37c2-4594-9210-9d2e529b5e42')\"\n",
              "            title=\"Suggest charts\"\n",
              "            style=\"display:none;\">\n",
              "\n",
              "<svg xmlns=\"http://www.w3.org/2000/svg\" height=\"24px\"viewBox=\"0 0 24 24\"\n",
              "     width=\"24px\">\n",
              "    <g>\n",
              "        <path d=\"M19 3H5c-1.1 0-2 .9-2 2v14c0 1.1.9 2 2 2h14c1.1 0 2-.9 2-2V5c0-1.1-.9-2-2-2zM9 17H7v-7h2v7zm4 0h-2V7h2v10zm4 0h-2v-4h2v4z\"/>\n",
              "    </g>\n",
              "</svg>\n",
              "  </button>\n",
              "\n",
              "<style>\n",
              "  .colab-df-quickchart {\n",
              "      --bg-color: #E8F0FE;\n",
              "      --fill-color: #1967D2;\n",
              "      --hover-bg-color: #E2EBFA;\n",
              "      --hover-fill-color: #174EA6;\n",
              "      --disabled-fill-color: #AAA;\n",
              "      --disabled-bg-color: #DDD;\n",
              "  }\n",
              "\n",
              "  [theme=dark] .colab-df-quickchart {\n",
              "      --bg-color: #3B4455;\n",
              "      --fill-color: #D2E3FC;\n",
              "      --hover-bg-color: #434B5C;\n",
              "      --hover-fill-color: #FFFFFF;\n",
              "      --disabled-bg-color: #3B4455;\n",
              "      --disabled-fill-color: #666;\n",
              "  }\n",
              "\n",
              "  .colab-df-quickchart {\n",
              "    background-color: var(--bg-color);\n",
              "    border: none;\n",
              "    border-radius: 50%;\n",
              "    cursor: pointer;\n",
              "    display: none;\n",
              "    fill: var(--fill-color);\n",
              "    height: 32px;\n",
              "    padding: 0;\n",
              "    width: 32px;\n",
              "  }\n",
              "\n",
              "  .colab-df-quickchart:hover {\n",
              "    background-color: var(--hover-bg-color);\n",
              "    box-shadow: 0 1px 2px rgba(60, 64, 67, 0.3), 0 1px 3px 1px rgba(60, 64, 67, 0.15);\n",
              "    fill: var(--button-hover-fill-color);\n",
              "  }\n",
              "\n",
              "  .colab-df-quickchart-complete:disabled,\n",
              "  .colab-df-quickchart-complete:disabled:hover {\n",
              "    background-color: var(--disabled-bg-color);\n",
              "    fill: var(--disabled-fill-color);\n",
              "    box-shadow: none;\n",
              "  }\n",
              "\n",
              "  .colab-df-spinner {\n",
              "    border: 2px solid var(--fill-color);\n",
              "    border-color: transparent;\n",
              "    border-bottom-color: var(--fill-color);\n",
              "    animation:\n",
              "      spin 1s steps(1) infinite;\n",
              "  }\n",
              "\n",
              "  @keyframes spin {\n",
              "    0% {\n",
              "      border-color: transparent;\n",
              "      border-bottom-color: var(--fill-color);\n",
              "      border-left-color: var(--fill-color);\n",
              "    }\n",
              "    20% {\n",
              "      border-color: transparent;\n",
              "      border-left-color: var(--fill-color);\n",
              "      border-top-color: var(--fill-color);\n",
              "    }\n",
              "    30% {\n",
              "      border-color: transparent;\n",
              "      border-left-color: var(--fill-color);\n",
              "      border-top-color: var(--fill-color);\n",
              "      border-right-color: var(--fill-color);\n",
              "    }\n",
              "    40% {\n",
              "      border-color: transparent;\n",
              "      border-right-color: var(--fill-color);\n",
              "      border-top-color: var(--fill-color);\n",
              "    }\n",
              "    60% {\n",
              "      border-color: transparent;\n",
              "      border-right-color: var(--fill-color);\n",
              "    }\n",
              "    80% {\n",
              "      border-color: transparent;\n",
              "      border-right-color: var(--fill-color);\n",
              "      border-bottom-color: var(--fill-color);\n",
              "    }\n",
              "    90% {\n",
              "      border-color: transparent;\n",
              "      border-bottom-color: var(--fill-color);\n",
              "    }\n",
              "  }\n",
              "</style>\n",
              "\n",
              "  <script>\n",
              "    async function quickchart(key) {\n",
              "      const quickchartButtonEl =\n",
              "        document.querySelector('#' + key + ' button');\n",
              "      quickchartButtonEl.disabled = true;  // To prevent multiple clicks.\n",
              "      quickchartButtonEl.classList.add('colab-df-spinner');\n",
              "      try {\n",
              "        const charts = await google.colab.kernel.invokeFunction(\n",
              "            'suggestCharts', [key], {});\n",
              "      } catch (error) {\n",
              "        console.error('Error during call to suggestCharts:', error);\n",
              "      }\n",
              "      quickchartButtonEl.classList.remove('colab-df-spinner');\n",
              "      quickchartButtonEl.classList.add('colab-df-quickchart-complete');\n",
              "    }\n",
              "    (() => {\n",
              "      let quickchartButtonEl =\n",
              "        document.querySelector('#df-374e003a-37c2-4594-9210-9d2e529b5e42 button');\n",
              "      quickchartButtonEl.style.display =\n",
              "        google.colab.kernel.accessAllowed ? 'block' : 'none';\n",
              "    })();\n",
              "  </script>\n",
              "</div>\n",
              "\n",
              "  <div id=\"id_3869ca82-1f4c-4515-a6fc-0bb6bc7d7b1c\">\n",
              "    <style>\n",
              "      .colab-df-generate {\n",
              "        background-color: #E8F0FE;\n",
              "        border: none;\n",
              "        border-radius: 50%;\n",
              "        cursor: pointer;\n",
              "        display: none;\n",
              "        fill: #1967D2;\n",
              "        height: 32px;\n",
              "        padding: 0 0 0 0;\n",
              "        width: 32px;\n",
              "      }\n",
              "\n",
              "      .colab-df-generate:hover {\n",
              "        background-color: #E2EBFA;\n",
              "        box-shadow: 0px 1px 2px rgba(60, 64, 67, 0.3), 0px 1px 3px 1px rgba(60, 64, 67, 0.15);\n",
              "        fill: #174EA6;\n",
              "      }\n",
              "\n",
              "      [theme=dark] .colab-df-generate {\n",
              "        background-color: #3B4455;\n",
              "        fill: #D2E3FC;\n",
              "      }\n",
              "\n",
              "      [theme=dark] .colab-df-generate:hover {\n",
              "        background-color: #434B5C;\n",
              "        box-shadow: 0px 1px 3px 1px rgba(0, 0, 0, 0.15);\n",
              "        filter: drop-shadow(0px 1px 2px rgba(0, 0, 0, 0.3));\n",
              "        fill: #FFFFFF;\n",
              "      }\n",
              "    </style>\n",
              "    <button class=\"colab-df-generate\" onclick=\"generateWithVariable('o_hobbit_df')\"\n",
              "            title=\"Generate code using this dataframe.\"\n",
              "            style=\"display:none;\">\n",
              "\n",
              "  <svg xmlns=\"http://www.w3.org/2000/svg\" height=\"24px\"viewBox=\"0 0 24 24\"\n",
              "       width=\"24px\">\n",
              "    <path d=\"M7,19H8.4L18.45,9,17,7.55,7,17.6ZM5,21V16.75L18.45,3.32a2,2,0,0,1,2.83,0l1.4,1.43a1.91,1.91,0,0,1,.58,1.4,1.91,1.91,0,0,1-.58,1.4L9.25,21ZM18.45,9,17,7.55Zm-12,3A5.31,5.31,0,0,0,4.9,8.1,5.31,5.31,0,0,0,1,6.5,5.31,5.31,0,0,0,4.9,4.9,5.31,5.31,0,0,0,6.5,1,5.31,5.31,0,0,0,8.1,4.9,5.31,5.31,0,0,0,12,6.5,5.46,5.46,0,0,0,6.5,12Z\"/>\n",
              "  </svg>\n",
              "    </button>\n",
              "    <script>\n",
              "      (() => {\n",
              "      const buttonEl =\n",
              "        document.querySelector('#id_3869ca82-1f4c-4515-a6fc-0bb6bc7d7b1c button.colab-df-generate');\n",
              "      buttonEl.style.display =\n",
              "        google.colab.kernel.accessAllowed ? 'block' : 'none';\n",
              "\n",
              "      buttonEl.onclick = () => {\n",
              "        google.colab.notebook.generateWithVariable('o_hobbit_df');\n",
              "      }\n",
              "      })();\n",
              "    </script>\n",
              "  </div>\n",
              "\n",
              "    </div>\n",
              "  </div>\n"
            ],
            "text/plain": [
              "    qtd_caracteres  qtd_palavras  qtd_palavras_unicas  num_sentencas\n",
              "1             1348           235                  154              9\n",
              "2             1299           228                  145             10\n",
              "3              892           149                  110              5\n",
              "4              965           155                  115              5\n",
              "5              684           114                   87              4\n",
              "6             1250           220                  143             10\n",
              "7              541            95                   72              5\n",
              "8             1215           216                  143             11\n",
              "9             1031           173                  121              8\n",
              "10             992           176                  120              8\n",
              "11            1089           185                  132              7\n",
              "12             880           152                  110              7"
            ]
          },
          "metadata": {},
          "output_type": "display_data"
        }
      ],
      "source": [
        "# Criação de séries (capítulos)\n",
        "s1 = pd.Series([1348, 1299, 892, 965, 684, 1250, 541, 1215, 1031, 992, 1089, 880], name='qtd_caracteres', dtype=int)\n",
        "s2 = pd.Series([235, 228, 149, 155, 114, 220, 95, 216, 173, 176, 185, 152], name='qtd_palavras', dtype=int)\n",
        "s3 = pd.Series([154, 145, 110, 115, 87, 143, 72, 143, 121, 120, 132, 110], name='qtd_palavras_unicas', dtype=int)\n",
        "s4 = pd.Series([9, 10, 5, 5, 4, 10, 5, 11, 8, 8, 7, 7], name='num_sentencas', dtype=int)\n",
        "\n",
        "# Cria um DataFrame a partir das Séries\n",
        "o_hobbit_df = pd.concat([s1, s2, s3, s4], axis=1)\n",
        "\n",
        "# Define o índice como os números dos capítulos\n",
        "o_hobbit_df.set_index(pd.RangeIndex(start= 1, stop=len(o_hobbit_df)+1), inplace=True)\n",
        "\n",
        "# Mostra o DF com o novo índice\n",
        "display(o_hobbit_df)"
      ]
    },
    {
      "cell_type": "markdown",
      "metadata": {
        "id": "TZVERGEw7C2Y"
      },
      "source": [
        "Gráfico apresentando a quantidade de palavras únicas de cada capítulo."
      ]
    },
    {
      "cell_type": "code",
      "execution_count": 15,
      "metadata": {
        "id": "SnurKs8w79Ya"
      },
      "outputs": [],
      "source": [
        "#Importar a biblioteca matplotlib para criação de gráficos\n",
        "import matplotlib.pyplot as plt"
      ]
    },
    {
      "cell_type": "code",
      "execution_count": null,
      "metadata": {
        "colab": {
          "base_uri": "https://localhost:8080/",
          "height": 568
        },
        "id": "mlvjOnoR2SdE",
        "outputId": "ee8fee30-b952-4d36-ea32-5b0027e9a731"
      },
      "outputs": [],
      "source": [
        "#Gráfico\n",
        "serie_palavras_unicas = o_hobbit_df['qtd_palavras_unicas']\n",
        "plt.figure(figsize=(9, 6))\n",
        "plt.bar(serie_palavras_unicas.index, serie_palavras_unicas.values, color='green')\n",
        "plt.xlabel('Capítulo')\n",
        "plt.ylabel('Quantidade de Palavras Únicas')\n",
        "plt.title('Quantidade de Palavras Únicas por Capítulo')\n",
        "plt.xticks(serie_palavras_unicas.index)\n",
        "plt.grid(axis='y', linestyle='--', alpha=0.7)\n",
        "plt.show()"
      ]
    },
    {
      "cell_type": "markdown",
      "metadata": {},
      "source": [
        "Abaixo foi criada uma função para encontrar uma palavra. (tive dificuldades para criar essa função, visto que ela traz um capítulo inteiro que contém aquela palavra)."
      ]
    },
    {
      "cell_type": "code",
      "execution_count": 17,
      "metadata": {
        "colab": {
          "base_uri": "https://localhost:8080/"
        },
        "id": "yuOxtyWVRaut",
        "outputId": "8dd75bcf-cbf0-46f9-ab69-5ab5e112ed8a"
      },
      "outputs": [
        {
          "name": "stdout",
          "output_type": "stream",
          "text": [
            "[['Uma', 'festa', 'muito', 'esperada', 'Sessenta', 'anos', 'passaram', 'desde', 'que', 'Bilbo', 'Bolseiro,', 'o', 'herói', 'de', 'O', 'Hobbit,', 'tinha', 'voltado', 'de', 'sua', 'jornada.', 'Ele', 'é', 'conhecido', 'por', 'muitos,', 'tanto', 'pela', 'sua', 'riqueza', 'legendária', 'como', 'pelo', 'fato', 'de', 'que', 'a', 'idade', 'não', 'parece', 'afetá-lo.', 'Ele', 'anuncia', 'uma', 'grande', 'celebração', 'em', 'honra', 'do', '111o', 'aniversário', 'dele', 'e', 'o', '33o', 'aniversário', 'do', 'seu', 'sobrinho', 'Frodo,', 'que', 'ele', 'tinha', 'adotado', 'como', 'herdeiro', 'alguns', 'anos', 'atrás', 'e', 'trouxera', 'para', 'viver', 'no', 'Bolsão.', 'A', 'festa', 'estava', 'esplêndida,', 'e', 'um', 'grande', 'número', 'de', 'hobbits', 'foi', 'convidado.', 'Mas', 'Bilbo', 'sentia-se', 'estranho', 'ultimamente,', 'e', 'decidiu', 'que', 'precisava', 'de', 'umas', 'férias', 'e', 'deixaria', 'o', 'Condado;', 'assim,', 'depois', 'de', 'fazer', 'um', 'discurso', 'depois', 'do', 'jantar,', 'na', 'frente', 'dos', '144', 'amigos', 'mais', 'íntimos', 'dele', 'e', 'de', 'Frodo,', 'e', 'também', 'de', 'seus', 'parentes,', 'ele', 'coloca', 'o', 'anel', 'mágico', 'e', 'desaparece,', 'causando', 'grande', 'surpresa.', 'Ele', 'fala', 'mais', 'uma', 'vez', 'com', 'Gandalf', 'antes', 'de', 'partir,', 'e', 'quase', 'muda', 'a', 'sua', 'intenção', 'original', 'de', 'deixar', 'o', 'anel', 'com', 'Frodo;', 'mas', 'o', 'mago', 'o', 'convence', 'a', 'manter', 'a', 'idéia,', 'e', 'Bilbo', 'parte,', 'muito', 'aliviado', 'e', 'mais', 'feliz', 'do', 'que', 'nunca.', 'Gandalf', 'adverte', 'Frodo', 'para', 'não', 'usar', 'o', 'anel.', 'No', 'dia', 'seguinte', 'Frodo', 'está', 'ocupado,', 'pois', 'Bilbo', 'tinha', 'deixado', 'presentes', 'de', 'despedida', 'para', 'muitos', 'hobbits,', 'e', 'agora', 'uma', 'multidão', 'de', 'pessoas', 'se', 'encontra', 'no', 'Bolsão,', 'muitos', 'deles', 'cavando', 'ao', 'redor', 'e', 'procurando', 'os', 'tesouros', 'imaginários', 'de', 'Bilbo.', 'Gandalf', 'parte,', 'e', 'não', 'volta', 'por', 'muito', 'tempo.'], ['A', 'Sombra', 'do', 'Passado', 'Gandalf', 'visita', 'Frodo', 'só', 'algumas', 'vezes', 'pelos', 'anos', 'que', 'seguem.', 'Frodo', 'se', 'acostuma', 'a', 'ser', 'o', 'mestre', 'do', 'Bolsão,', 'e', 'faz', 'amizade', 'com', 'alguns', 'dos', 'hobbits', 'mais', 'jovem', '[por', 'exemplo', 'com', 'Peregrin', 'Tûk', 'e', 'Merry', 'Brandebuque]', 'enquanto', 'a', 'maioria', 'o', 'considera', 'esquisito,', 'como', 'Bilbo.', 'Rumores', 'de', 'eventos', 'estranhos', 'fora', 'do', 'Condado', 'surgem,', 'como', 'o', 'da', 'ascensão', 'do', 'Poder', 'Escuro', 'na', 'Terra', 'de', 'Mordor,', 'embora', 'a', 'maioria', 'dos', 'hobbits', 'não', 'acreditasse', 'nisso.', 'No', 'qüinquagésimo', 'ano', 'da', 'vida', 'de', 'Frodo,', 'Gandalf', 'o', 'visita', 'novamente', 'e', 'eles', 'têm', 'uma', 'conversa', 'longa', 'sobre', 'o', 'anel', 'que', 'Frodo', 'tinha', 'herdado', 'de', 'Bilbo.', 'Gandalf', 'explica', 'a', 'Frodo', 'a', 'natureza', 'e', 'a', 'história', 'do', 'anel,', 'que', 'é', 'de', 'fato', 'o', 'maior', 'dos', 'Anéis', 'de', 'Poder', 'e', 'foi', 'feito', 'há', 'muito', 'tempo', 'por', 'Sauron,', 'o', 'Senhor', 'do', 'Escuro', 'de', 'Mordor.', 'Sauron', 'o', 'está', 'procurando', 'agora', 'avidamente.', 'Achando', 'o', 'anel', 'o', 'seu', 'poder', 'cresceria', 'imensamente.', 'O', 'anel', 'deveria', 'ser', 'destruído', 'para', 'que', 'Sauron', 'perdesse', 'seu', 'poder,', 'mas', 'só', 'poderia', 'ser', 'destruído', 'em', 'Orodruin,', 'a', 'Montanha', 'da', 'Perdição', 'em', 'Mordor.', 'Parece', 'que', 'Sauron', 'já', 'tinha', 'ouvido', 'falar', 'de', 'Bilbo', 'e', 'do', 'Condado', 'através', 'de', 'Gollum;', 'assim,', 'o', 'Condado', 'provavelmente', 'não', 'é', 'mais', 'um', 'lugar', 'seguro', 'para', 'Frodo.', 'Ele', 'decide', 'partir,', 'acompanhado', 'por', 'Sam', 'Gamgi,', 'o', 'seu', 'jovem', 'jardineiro,', 'que', '[ao', 'contrário', 'da', 'maioria', 'dos', 'hobbits]', 'acredita', 'nas', 'antigas', 'histórias', 'e', 'adoraria', 'ver', 'os', 'Elfos'], ['Três', 'não', 'é', 'demais', 'Frodo', 'vende', 'o', 'Bolsão', 'aos', 'Sacola-Bolseiros', 'e', 'compra', 'uma', 'casa', 'na', 'Terra', 'dos', 'Buques,', 'a', 'leste', 'do', 'Condado,', 'onde', 'ele', 'tinha', 'passado', 'sua', 'infância.', 'No', 'seu', 'qüinquagésimo', 'aniversário,', 'ele', 'deixa', 'o', 'Bolsão', 'e', 'parte', 'com', 'seu', 'amigo', 'Pippin', '[Peregrin', 'Tûk]', 'e', 'Sam', 'Gamgi;', 'Gandalf', 'o', 'deixou', 'por', 'algum', 'tempo', 'para', 'procurar', 'notícias', 'do', 'que', 'acontecia', 'na', 'Terra-média,', 'e', 'ainda', 'não', 'voltou,', 'o', 'que', 'preocupa', 'muito', 'Frodo.', 'No', 'dia', 'seguinte,', 'os', 'três', 'hobbits', 'notam', 'que', 'estão', 'sendo', 'seguidos', 'pelos', 'misteriosos', 'Cavaleiros', 'Negros.', 'Não', 'sabem', 'exatamente', 'quem', 'eles', 'são,', 'e', 'Frodo,', 'cuidadoso,', 'decide', 'não', 'deixar', 'que', 'os', 'Cavaleiros', 'os', 'vejam.', 'Eles', 'conhecem,', 'durante', 'a', 'noite,', 'um', 'grupo', 'vagante', 'de', 'Altos-elfos', 'conduzido', 'por', 'Gildor', 'Inglorion;', 'Frodo', 'fala', 'por', 'muito', 'tempo', 'com', 'Gildor,', 'e', 'o', 'elfo', 'o', 'aconselha', 'a', 'tentar', 'alcançar', 'Valfenda', 'apesar', 'da', 'ausência', 'de', 'Gandalf,', 'e', 'conta-lhe', 'que', 'os', 'Cavaleiros', 'Negros', 'são', 'os', 'perigosos', 'Servos', 'do', 'Inimigo.'], ['Um', 'atalho', 'para', 'cogumelos', 'No', 'dia', 'seguinte,', 'Frodo', 'decide', 'pegar', 'um', 'atalho', 'para', 'o', 'rio', 'Brandevin,', 'onde', 'Merry', 'deveria', 'encontrá-los', 'naquele', 'dia;', 'queriam', 'chegar', 'lá', 'mais', 'cedo,', 'e', 'evitar', 'serem', 'vistos', 'novamente', 'pelos', 'Cavaleiros', 'Negros.', 'De', 'fato,', 'eles', 'percebem', 'que', 'um', 'dos', 'Cavaleiros', 'está', 'na', 'estrada', 'e', 'decidem', 'sair', 'dela.', 'Depois', 'de', 'uma', 'passagem', 'longa', 'e', 'desagradável', 'pelos', 'bosques,', 'eles', 'alcançam', 'a', 'propriedade', 'de', 'Fazendeiro', 'Magote,', 'que', 'é', 'conhecido', 'por', 'soltar', 'seus', 'cachorros', 'em', 'qualquer', 'invasor', 'que', 'venha', 'a', 'colher', 'os', 'seus', 'cogumelos', '[como', 'o', 'próprio', 'Frodo', 'tinha', 'experimentado', 'na', 'sua', 'mocidade].', 'Contudo,', 'ele', 'é', 'bastante', 'amigável,', 'especialmente', 'por', 'conhecer', 'bastante', 'Pippin;', 'ele', 'conta', 'a', 'Frodo', 'e', 'seus', 'amigos', 'que', 'pouco', 'tempo', 'antes', 'um', 'cavaleiro', 'negro', 'estranho', 'e', 'amedrontador', 'perguntara-lhe', 'por', 'um', 'Bolseiro', '.', 'Para', 'ajudar', 'Frodo', 'a', 'alcançar', 'a', 'balsa', 'do', 'Brandevin', 'da', 'maneira', 'mais', 'segura', 'e', 'rápida', 'possível,', 'Magote', 'leva', 'os', 'três', 'hobbits', 'com', 'sua', 'carroça', ',', 'e', 'eles', 'acham', 'Merry', 'esperando-os', 'ansiosamente.'], ['Conspiração', 'Desmascarada', 'Conforme', 'eles', 'cruzam', 'o', 'Rio,', 'notam', 'uma', 'figura', 'negra', 'parada,', 'e', 'cada', 'vez', 'mais', 'próxima.', 'Eles', 'vão', 'para', 'a', 'casa', 'nova', 'de', 'Frodo', 'em', 'Cricôncavo,', 'e', 'falam', 'sobre', 'as', 'suas', 'aventuras', 'na', 'viagem.', 'Frodo', 'pretende', 'falar', 'finalmente', 'para', 'os', 'amigos', 'que', 'vai', 'partir', 'o', 'mais', 'cedo', 'possível', 'quando,', 'para', 'o', 'seu', 'assombro,', 'eles', 'dizem', 'que', 'já', 'sabem', 'sobre', 'o', 'Anel,', 'e', 'sobre', 'o', 'propósito', 'de', 'sua', 'viagem,', 'e', 'que', 'pretendem', 'acompanhá-lo', 'e', 'ajudá-lo.', 'Depois', 'do', 'choque', 'inicial,', 'Frodo', 'aceita', 'a', 'ajuda', 'deles', 'alegremente,', 'e', 'eles', 'decidem', 'partir', 'no', 'dia', 'seguinte,', 'bem', 'cedo,', 'pela', 'Floresta', 'Velha,', 'um', 'lugar', 'conhecido', 'como', 'esquisito', 'e', 'perigoso,', 'para', 'evitar', 'as', 'estradas', 'que', 'provavelmente', 'serão', 'vigiadas', 'pelos', 'Cavaleiros.'], ['A', 'Floresta', 'Velha', 'Os', 'hobbits', 'entram', 'na', 'Floresta', 'Velha', 'e', 'logo', 'começam', 'a', 'sentir', 'sua', 'estranheza,', 'como', 'se', 'as', 'árvores', 'estivessem', 'vigiando-os', 'e', 'os', 'odiassem.', 'Eles', 'chegam', 'à', 'Clareira', 'onde', 'os', 'hobbits', 'queimaram', 'uma', 'grande', 'quantidade', 'de', 'árvores', 'há', 'muito', 'tempo', 'atrás.', 'De', 'lá,', 'eles', 'seguem', 'um', 'caminho', 'que', 'os', 'conduz', 'a', 'uma', 'colina', 'que', 'sobe', 'fora', 'da', 'Floresta,', 'e', 'de', 'lá,', 'como', 'eles', 'eventualmente', 'notam,', 'para', 'o', 'Rio', 'Withywindle,', 'a', 'parte', 'central', 'e', 'mais', 'estranha', 'da', 'floresta.', 'Eles', 'querem', 'evitar', 'isso', 'e', 'deixar', 'o', 'caminho,', 'mas', 'acham', 'o', 'terreno', 'sempre', 'mais', 'difícil', 'na', 'direção', 'em', 'que', 'gostariam', 'de', 'ir.', 'Eles', 'caem', 'em', 'um', 'barranco', 'que', 'é', 'muito', 'íngreme', 'para', 'ser', 'escalado', 'novamente', 'e,', 'seguindo-o,', 'chegam', 'ao', 'Withywindle', 'e', 'acham', 'um', 'caminho', 'que', 'corre', 'ao', 'longo', 'dele.', 'Este', 'caminho', 'os', 'traz', 'a', 'um', 'velho', 'salgueiro,', 'perto', 'do', 'qual', 'começam', 'a', 'sentir-se', 'sonolentos', 'de', 'repente.', 'Frodo,', 'Merry', 'e', 'Pippin', 'dormem,', 'e', 'a', 'árvore', 'lança', 'Frodo', 'na', 'água', 'e', 'captura', 'Merry', 'e', 'Pippin', 'debaixo', 'de', 'suas', 'raízes.', 'Sam', 'e', 'Frodo', 'não', 'podem', 'salvá-los,', 'e', 'correm', 'ao', 'longo', 'do', 'caminho,', 'enquanto', 'pedem', 'por', 'ajuda,', 'desesperados.', 'Eles', 'encontram', 'Tom', 'Bombadil,', 'um', 'homem', 'estranho', 'que', 'canta', 'canções', 'absurdas.', 'Tom', 'canta', 'a', 'melodia', 'certa,', 'e', 'o', 'salgueiro', 'liberta', 'Merry', 'e', 'Pippin;', 'então', 'Tom', 'convida', 'os', 'hobits', 'para', 'irem', 'à', 'casa', 'dele,', 'onde', 'vive', 'com', 'Fruta', 'DOuro.'], ['Na', 'Casa', 'de', 'Tom', 'Bombadil', 'Eles', 'comem', 'um', 'jantar', 'magnífico', 'e', 'então', 'vão', 'dormir,', 'e', 'cada', 'um', 'deles', 'tem', 'sonhos', 'diferentes', 'e', 'estranhos.', 'No', 'dia', 'os', 'hobbits', 'falam', 'com', 'Tom', 'Bombadil', 'durante', 'o', 'dia', 'inteiro.', 'Tom', 'lhes', 'fala', 'muito', 'sobre', 'a', 'Floresta,', 'os', 'tipos', 'de', 'árvores', 'e', 'animais,', 'o', 'Velho', 'Homem-Salgueiro,', 'e', 'a', 'história', 'antiga', 'da', 'Terra-média,', 'embora', 'de', 'maneira', 'enigmática.', 'Para', 'a', 'surpresa', 'deles,', 'descobrem', 'que', 'o', 'Anel', 'não', 'tem', 'nenhum', 'poder', 'sobre', 'Bombadil.', 'Ele', 'lhes', 'dá', 'conselhos', 'no', 'dia', 'seguinte,', 'e', 'lhes', 'ensina', 'uma', 'rima', 'parra', 'chamá-lo', 'se', 'eles', 'precisarem', 'da', 'ajuda', 'dele.'], ['Névoa', 'nas', 'Colinas', 'dos', 'Túmulos', 'No', 'dia', 'seguinte,', 'os', 'hobbits', 'deixam', 'a', 'casa', 'de', 'Tom,', 'pretendendo', 'cruzar', 'os', 'Túmulos.', 'Eles', 'fazem', 'um', 'progresso', 'bom', 'pela', 'manhã,', 'e', 'ao', 'redor', 'de', 'meio-dia', 'param', 'para', 'descansar.', 'Estranhamente', 'há', 'um', 'grande', 'pedra', 'fria', 'que', 'se', 'levanta', 'no', 'topo', 'plano', 'de', 'uma', 'colina.', 'Eles', 'adormecem', 'e', 'são', 'despertados', 'por', 'um', 'pôr-do-sol', 'cercado', 'pela', 'névoa.', 'Eles', 'imediatamente', 'se', 'encaminham', 'na', 'direção', 'que', 'eles', 'acreditam', 'ser', 'a', 'mais', 'direta', 'para', 'a', 'Estrada;', 'algum', 'tempo', 'depois', 'Frodo,', 'que', 'estava', 'na', 'frente,', 'passa', 'entre', 'duas', 'pedras', 'paradas', 'e', 'nota', 'que', 'os', 'outros', 'se', 'foram.', 'Ele', 'começa', 'a', 'gritar', 'por', 'ajuda,', 'e', 'é', 'capturado', 'por', 'uma', 'Criatura', 'Tumular.', 'Ele', 'desperta', 'novamente', 'dentro', 'de', 'um', 'túmulo,', 'nota', 'que', 'os', 'outros', 'estão', 'inconscientes', 'perto', 'dele', 'e', 'que', 'uma', 'mão', 'está', 'rastejando', 'na', 'direção', 'deles.', 'Frodo', 'canta', 'a', 'rima', 'que', 'Tom', 'Bombadil', 'tinha', 'lhes', 'ensinado', 'um', 'dia', 'antes,', 'e', 'realmente', 'Tom', 'vem', 'muito', 'rápido,', 'e', 'a', 'luz', 'do', 'dia', 'destrói', 'a', 'Criatura', 'Tumular.', 'Tom', 'desperta', 'os', 'outros', 'três', 'hobits,', 'e', 'dá', 'a', 'cada', 'um', 'deles', 'uma', 'espada,', 'tirada', 'dos', 'tesouros', 'que', 'estavam', 'dentro', 'do', 'túmulo.', 'Ele', 'também', 'traz', 'os', 'pôneis', 'deles', 'que', 'fugiram', 'à', 'noite,', 'e', 'os', 'acompanha', 'durante', 'algum', 'tempo,', 'até', 'as', 'fronteiras', 'das', 'terras', 'dele.', 'Os', 'hobbits', 'partem,', 'e', 'chegam', 'à', 'aldeia', 'de', 'Bri', 'pela', 'noite.'], ['No', 'Pônei', 'Saltitante', 'O', 'hobbits', 'entram', 'no', 'Pônei', 'Saltitante,', 'uma', 'hospedaria', 'grande', 'em', 'Bri.', 'Um', 'grupo', 'diversificado', 'de', 'hóspedes', 'já', 'esta', 'reunido', 'lá:', 'hobbits', 'locais', 'e', 'homens,', 'anões', 'em', 'viagem,', 'homens', 'estranhos', 'do', 'Sul,', 'e', 'um', 'Guardião', 'misterioso', 'conhecido', 'como', 'Passolargo.', 'Depois', 'da', 'ceia,', 'Frodo,', 'Sam', 'e', 'Pippin', 'decidem', 'unir-se', 'aos', 'hóspedes;', 'Pippin', 'chama', 'a', 'atenção', 'contando', 'uma', 'história', 'sobre', 'o', 'Prefeito', 'do', 'Condado', 'e,', 'empolgado,', 'começa', 'a', 'contar', 'sobre', 'a', 'festa', 'de', 'despedida', 'de', 'Bilbo.', 'Frodo', 'não', 'quer', 'mencionar', 'o', 'desaparecimento', 'de', 'Bilbo,', 'e', 'para', 'interromper', 'Pippin', 'salta', 'sobre', 'uma', 'mesa', 'e', 'começa', 'a', 'cantar', 'e', 'dançar.', 'Ele', 'salta', 'e', 'cai', 'da', 'mesa,', 'e', 'enquanto', 'cai', 'o', 'Anel', 'desliza', 'para', 'o', 'dedo', 'dele,', 'e', 'ele', 'desaparece.', 'Isto', 'causa', 'muita', 'ansiedade,', 'e', 'apesar', 'das', 'explicações', 'posteriores', 'a', 'maioria', 'dos', 'hóspedes', 'deixa', 'o', 'aposento.', 'Passolargo', 'parece', 'saber', 'o', 'real', 'nome', 'de', 'Frodo,', 'e', 'a', 'verdadeira', 'causa', 'do', 'seu', 'desaparecimento,', 'e', 'lhe', 'pede', 'que', 'tenham', 'uma', 'conversa', 'depois.', 'Carrapicho,', 'o', 'estalajadeiro,', 'também', 'se', 'lembra', 'de', 'algo', 'e', 'pede', 'para', 'ter', 'uma', 'conversa', 'particular', 'com', 'Frodo.'], ['Passolargo', 'Passolargo', 'vai', 'falar', 'com', 'Frodo,', 'Sam', 'e', 'Pippin.', 'Ele', 'se', 'oferece', 'para', 'ser', 'o', 'guia', 'deles,', 'e', 'parece', 'já', 'saber', 'muito', 'de', 'Frodo;', 'porém,', 'por', 'causa', 'da', 'sua', 'aparência,', 'os', 'hobbits', 'não', 'confiam', 'nele.', 'Então', 'Carrapicho', 'chega', 'e', 'explica', 'que', 'Gandalf', 'tinha', 'deixado', 'uma', 'carta', 'para', 'um', 'certo', 'Frodo', 'Bolseiro,', 'que', 'Carrapicho', 'esquecera', 'de', 'enviar', 'ao', 'Condado', 'há', 'vários', 'meses', 'atrás.', 'Frodo', 'e', 'seus', 'companheiros', 'batem', 'com', 'a', 'descrição', 'que', 'Gandalf', 'dera', 'a', 'Carrapicho,', 'e', 'este', 'dá', 'a', 'carta', 'a', 'Frodo.', 'Entre', 'outras', 'coisas,', 'essa', 'carta', 'contém', 'um', 'conselho', 'de', 'Gandalf', 'para', 'aceitar', 'a', 'ajuda', 'de', 'um', 'amigo', 'seu,', 'um', 'homem', 'chamado', 'Passolargo', '[com', 'o', 'verdadeiro', 'nome', 'Aragorn],', 'se', 'eles', 'chegassem', 'a', 'conhecê-lo.', 'Assim,', 'Frodo', 'decide', 'aceitar', 'a', 'ajuda', 'dele', 'como', 'um', 'guia', 'para', 'Valfenda.', 'Merry,', 'que', 'saiu', 'para', 'pegar', 'um', 'ar', 'fresco', 'antes,', 'agora', 'volta', 'e', 'conta', 'que', 'viu', 'os', 'Cavaleiros', 'Negros,', 'e', 'parece', 'que', 'eles', 'têm', 'espiões', 'em', 'Bri.', 'Eles', 'decidem', 'não', 'ir', 'para', 'os', 'quartos', 'designados', 'a', 'eles,', 'e', 'dormem', 'no', 'quarto', 'de', 'hóspedes,', 'depois', 'de', 'trancarem', 'as', 'janelas', 'e', 'a', 'porta.'], ['Uma', 'Faca', 'no', 'Escuro', 'Naquela', 'mesma', 'noite,', 'os', 'Cavaleiros', 'Negros', 'arrombam', 'a', 'casa', 'de', 'Frodo', 'em', 'Cricôncavo,', 'descobrem', 'que', 'Frodo', 'não', 'esta', 'lá,', 'e', 'cavalgam', 'para', 'Bri', 'com', 'grande', 'pressa.', 'Eles', 'arrombam', 'a', 'hospedaria,', 'ou', 'mais', 'especificamente', 'o', 'quarto', 'onde', 'os', 'hóspedes', 'hobbits', 'normalmente', 'dormem.', 'Os', 'hobbits', 'não', 'são', 'descobertos,', 'mas', 'todos', 'os', 'cavalos', 'e', 'pôneis', 'da', 'hospedaria', 'fugiram', 'com', 'medo.', 'No', 'dia', 'seguinte', 'eles', 'compram', 'um', 'pônei', 'e', 'mantimentos', '[muito', 'mais', 'do', 'que', 'eles', 'poderiam', 'carregar', 'em', 'suas', 'costas];', 'eles', 'vão', 'em', 'direção', 'a', 'Valfenda,', 'e', 'Passolargo', 'os', 'conduz', 'pela', 'floresta', 'para', 'uma', 'colina', 'chamada', 'Topo', 'do', 'Vento,', 'que', 'oferece', 'uma', 'visão', 'de', 'cima', 'de', 'uma', 'área', 'circunvizinha', 'bem', 'grande.', 'Parece', 'que', 'Gandalf', 'tinha', 'estado', 'lá', 'três', 'dias', 'antes', 'deles.', 'Naquela', 'noite', 'eles', 'são', 'atacados', 'por', 'cinco', 'dos', 'Cavaleiros', 'em', 'uma', 'depressão', 'debaixo', 'do', 'Topo', 'do', 'Vento;', 'Frodo', 'não', 'consegue', 'resistir', 'ao', 'desejo', 'de', 'colocar', 'o', 'Anel,', 'e', 'imediatamente', 'depois', 'de', 'fazer', 'isso', 'percebe', 'que', 'ele', 'pode', 'ver', 'os', 'Cavaleiros', 'muito', 'claramente', 'apesar', 'da', 'escuridão.', 'O', 'capitão', 'dos', 'Cavaleiros', 'ataca', 'Frodo,', 'que', 'o', 'golpeia', 'nos', 'pés', 'mas', 'acaba', 'ferido', 'e', 'perde', 'a', 'consciência', '.'], ['Fuga', 'para', 'o', 'Vau', 'Passolargo', 'faz', 'o', 'melhor', 'possível', 'para', 'curar', 'Frodo,', 'mas', 'este', 'só', 'poderia', 'receber', 'o', 'tratamento', 'em', 'Valfenda,', 'que', 'eles', 'deveriam', 'alcançar', 'o', 'mais', 'cedo', 'possível.', 'Eles', 'cruzam', 'o', 'Rio', 'Fontegris', 'e,', 'evitando', 'a', 'estrada,', 'caminham', 'pelos', 'ermos', 'e', 'acabam', 'alcançando', 'a', 'região', 'dos', 'trolls', 'onde', 'Bilbo', 'tivera', 'a', 'sua', 'primeira', 'aventura', 'tantos', 'anos', 'atrás.', 'Eles', 'têm', 'que', 'cruzar', 'uma', 'linha', 'de', 'colinas', 'para', 'se', 'pôr', 'mais', 'perto', 'novamente', 'da', 'Estrada,', 'já', 'que', 'a', 'única', 'esperança', 'deles', 'de', 'alcançar', 'Valfenda', 'a', 'tempo', 'é', 'seguir', 'a', 'Estrada', 'que', 'cruza', 'o', 'rio', 'Ruidoságua,', 'ou', 'Bruinen,', 'no', 'vau', 'de', 'Bruinen.', 'Na', 'Estrada', 'eles', 'conhecem', 'Glorfindel,', 'um', 'Senhor', 'Élfico', 'que', 'foi', 'enviado', 'de', 'Valfenda', 'para', 'achá-los', 'e', 'ajudá-los.', 'Eles', 'se', 'aproximam', 'do', 'Vau', 'de', 'Bruinen', 'e', 'são', 'emboscados', 'pelos', 'Cavaleiros', 'Negros.', 'Frodo', 'consegue', 'escapar', 'e', 'cruzar', 'o', 'rio', 'no', 'cavalo', 'de', 'Glorfindel.', 'Então', 'uma', 'grande', 'inundação', 'vem', 'rio', 'abaixo', 'e', 'leva', 'os', 'Cavaleiros.']]\n"
          ]
        }
      ],
      "source": [
        "print(nova_lista_tokenizada)"
      ]
    },
    {
      "cell_type": "code",
      "execution_count": null,
      "metadata": {
        "colab": {
          "base_uri": "https://localhost:8080/"
        },
        "id": "w0BuDhdeUVIs",
        "outputId": "527fd737-ba18-4a5d-d769-8a8516f15856"
      },
      "outputs": [],
      "source": [
        "#Função para encontrar uma palavra\n",
        "def encontrar_palavra(nova_lista_tokenizada, palavra):\n",
        "    palavras_encontradas = []\n",
        "    for item in nova_lista_tokenizada:\n",
        "        if palavra in item:\n",
        "            palavras_encontradas.append(item)\n",
        "    return palavras_encontradas\n",
        "\n",
        "# Palavra a ser encontrada na lista\n",
        "palavra_desejada = input(\"Digite a palavra desejada: \")\n",
        "\n",
        "# Chamada da função para encontrar a palavra na lista\n",
        "resultado = encontrar_palavra(nova_lista_tokenizada, palavra_desejada)\n",
        "\n",
        "# Exibindo o resultado\n",
        "print(\"Palavras encontradas contendo '{}':\".format(palavra_desejada))\n",
        "print(resultado)"
      ]
    },
    {
      "cell_type": "markdown",
      "metadata": {
        "id": "ZNLDSqr15mOx"
      },
      "source": [
        "Remoção das stopwords, comparação do texto original com o texto sem as stopwords e criação de um vetor.\n"
      ]
    },
    {
      "cell_type": "code",
      "execution_count": null,
      "metadata": {
        "colab": {
          "base_uri": "https://localhost:8080/"
        },
        "id": "h_dON5LmxYS5",
        "outputId": "434b17b9-4acd-46d1-f8d3-496167255421"
      },
      "outputs": [],
      "source": [
        "import nltk\n",
        "#Importação e download da lista de stopwords\n",
        "from nltk.corpus import stopwords\n",
        "nltk.download('stopwords')\n",
        "\n",
        "# Lista de stop words\n",
        "stop_words = set(stopwords.words('portuguese'))\n",
        "\n",
        "# Função para remover stop words de um texto\n",
        "def remover_stopwords(texto):\n",
        "    palavras = texto.split()\n",
        "    palavras_sem_stopwords = [palavra for palavra in palavras if palavra.lower() not in stop_words]\n",
        "    texto_sem_stopwords = ' '.join(palavras_sem_stopwords)\n",
        "    return texto_sem_stopwords\n",
        "\n",
        "# Remover stop words de cada texto no corpus\n",
        "corpus_sem_stopwords = [remover_stopwords(texto) for texto in corpus]\n",
        "\n",
        "# Imprimir os textos originais e os textos sem stop words\n",
        "for texto_original, texto_sem_stopwords in zip(corpus, corpus_sem_stopwords):\n",
        "    print(\"\\n\\nTEXTO ORIGINAL:\", texto_original)\n",
        "    print(\"\\nTEXTO SEM STOPWORDS:\", texto_sem_stopwords)\n",
        "    print()\n"
      ]
    },
    {
      "cell_type": "code",
      "execution_count": null,
      "metadata": {
        "colab": {
          "base_uri": "https://localhost:8080/"
        },
        "id": "icygTQHq5CJu",
        "outputId": "e1baf9a0-691a-4bd1-fd38-764cfa55b68f"
      },
      "outputs": [],
      "source": [
        "#Importação da classe CountVectorizer\n",
        "from sklearn.feature_extraction.text import CountVectorizer\n",
        "#cria uma instância de CountVectorizer\n",
        "vectorizer = CountVectorizer()\n",
        "#Transforma o texto em vetores numéricos\n",
        "vetores = vectorizer.fit_transform(corpus_sem_stopwords)\n",
        "\n",
        "vocabulario = vectorizer.get_feature_names_out()\n",
        "#Imprime os vetores resultantes e o vocabulário\n",
        "print(\"Vetores resultantes: \")\n",
        "print(vetores.toarray())\n",
        "print()\n",
        "\n",
        "print(\"Vocabulário: \")\n",
        "print(vocabulario)"
      ]
    },
    {
      "cell_type": "markdown",
      "metadata": {
        "id": "0vHKkvzFBvtr"
      },
      "source": [
        "Nessa última parte foi criado um algoritmo que lê a palavra do usuário e, em seguida, mostra a ele o capítulo mais relevante da pesquisa, juntamente com a pontuação do TF-IDF da palavra buscada."
      ]
    },
    {
      "cell_type": "code",
      "execution_count": 21,
      "metadata": {
        "id": "ud7VM7Fk8OEz"
      },
      "outputs": [],
      "source": [
        "#Importação de bibliotecas para PLN\n",
        "#O TfidfVectorizer é uma ferramenta que transforma uma coleção de docs de texto em uma matriz TF-IDF\n",
        "from sklearn.feature_extraction.text import TfidfVectorizer\n",
        "import numpy as np"
      ]
    },
    {
      "cell_type": "code",
      "execution_count": 22,
      "metadata": {
        "id": "wp5Cmp2n8Pp5"
      },
      "outputs": [],
      "source": [
        "corpus = [\n",
        "          \"Capítulo 1: Uma festa muito esperada\\nSessenta anos passaram desde que Bilbo Bolseiro, o herói de O Hobbit, tinha voltado de sua jornada. Ele é conhecido por muitos, tanto pela sua riqueza legendária como pelo fato de que a idade não parece afetá-lo. Ele anuncia uma grande celebração em honra do 111o aniversário dele e o 33o aniversário do seu sobrinho Frodo, que ele tinha adotado como herdeiro alguns anos atrás e trouxera para viver no Bolsão. A festa estava esplêndida, e um grande número de hobbits foi convidado. Mas Bilbo sentia-se estranho ultimamente, e decidiu que precisava de umas férias e deixaria o Condado; assim, depois de fazer um discurso depois do jantar, na frente dos 144 amigos mais íntimos dele e de Frodo, e também de seus parentes, ele coloca o anel mágico e desaparece, causando grande surpresa. Ele fala mais uma vez com Gandalf antes de partir, e quase muda a sua intenção original de deixar o anel com Frodo; mas o mago o convence a manter a idéia, e Bilbo parte, muito aliviado e mais feliz do que nunca. Gandalf adverte Frodo para não usar o anel. No dia seguinte Frodo está ocupado, pois Bilbo tinha deixado presentes de despedida para muitos hobbits, e agora uma multidão de pessoas se encontra no Bolsão, muitos deles cavando ao redor e procurando os tesouros imaginários de Bilbo. Gandalf parte, e não volta por muito tempo.\",\n",
        "          \"Capítulo 2: A Sombra do Passado\\nGandalf visita Frodo só algumas vezes pelos anos que seguem. Frodo se acostuma a ser o mestre do Bolsão, e faz amizade com alguns dos hobbits mais jovem [por exemplo com Peregrin Tûk e Merry Brandebuque] enquanto a maioria o considera esquisito, como Bilbo. Rumores de eventos estranhos fora do Condado surgem, como o da ascensão do Poder Escuro na Terra de Mordor, embora a maioria dos hobbits não acreditasse nisso. No qüinquagésimo ano da vida de Frodo, Gandalf o visita novamente e eles têm uma conversa longa sobre o anel que Frodo tinha herdado de Bilbo. Gandalf explica a Frodo a natureza e a história do anel, que é de fato o maior dos Anéis de Poder e foi feito há muito tempo por Sauron, o Senhor do Escuro de Mordor. Sauron o está procurando agora avidamente. Achando o anel o seu poder cresceria imensamente. O anel deveria ser destruído para que Sauron perdesse seu poder, mas só poderia ser destruído em Orodruin, a Montanha da Perdição em Mordor. Parece que Sauron já tinha ouvido falar de Bilbo e do Condado através de Gollum; assim, o Condado provavelmente não é mais um lugar seguro para Frodo. Ele decide partir, acompanhado por Sam Gamgi, o seu jovem jardineiro, que [ao contrário da maioria dos hobbits] acredita nas antigas histórias e adoraria ver os Elfos\",\n",
        "          \"Capítulo 3: Três não é demais\\nFrodo vende o Bolsão aos Sacola-Bolseiros e compra uma casa na Terra dos Buques, a leste do Condado, onde ele tinha passado sua infância. No seu qüinquagésimo aniversário, ele deixa o Bolsão e parte com seu amigo Pippin [Peregrin Tûk] e Sam Gamgi; Gandalf o deixou por algum tempo para procurar notícias do que acontecia na Terra-média, e ainda não voltou, o que preocupa muito Frodo. No dia seguinte, os três hobbits notam que estão sendo seguidos pelos misteriosos Cavaleiros Negros. Não sabem exatamente quem eles são, e Frodo, cuidadoso, decide não deixar que os Cavaleiros os vejam. Eles conhecem, durante a noite, um grupo vagante de Altos-elfos conduzido por Gildor Inglorion; Frodo fala por muito tempo com Gildor, e o elfo o aconselha a tentar alcançar Valfenda apesar da ausência de Gandalf, e conta-lhe que os Cavaleiros Negros são os perigosos Servos do Inimigo.\",\n",
        "          \"Capítulo 4: Um atalho para cogumelos\\nNo dia seguinte, Frodo decide pegar um atalho para o rio Brandevin, onde Merry deveria encontrá-los naquele dia; queriam chegar lá mais cedo, e evitar serem vistos novamente pelos Cavaleiros Negros. De fato, eles percebem que um dos Cavaleiros está na estrada e decidem sair dela. Depois de uma passagem longa e desagradável pelos bosques, eles alcançam a propriedade de Fazendeiro Magote, que é conhecido por soltar seus cachorros em qualquer invasor que venha a colher os seus cogumelos [como o próprio Frodo tinha experimentado na sua mocidade]. Contudo, ele é bastante amigável, especialmente por conhecer bastante Pippin; ele conta a Frodo e seus amigos que pouco tempo antes um cavaleiro negro estranho e amedrontador perguntara-lhe por um Bolseiro . Para ajudar Frodo a alcançar a balsa do Brandevin da maneira mais segura e rápida possível, Magote leva os três hobbits com sua carroça , e eles acham Merry esperando-os ansiosamente.\",\n",
        "          \"Capítulo 5: Conspiração Desmascarada\\nConforme eles cruzam o Rio, notam uma figura negra parada, e cada vez mais próxima. Eles vão para a casa nova de Frodo em Cricôncavo, e falam sobre as suas aventuras na viagem. Frodo pretende falar finalmente para os amigos que vai partir o mais cedo possível quando, para o seu assombro, eles dizem que já sabem sobre o Anel, e sobre o propósito de sua viagem, e que pretendem acompanhá-lo e ajudá-lo. Depois do choque inicial, Frodo aceita a ajuda deles alegremente, e eles decidem partir no dia seguinte, bem cedo, pela Floresta Velha, um lugar conhecido como esquisito e perigoso, para evitar as estradas que provavelmente serão vigiadas pelos Cavaleiros.\",\n",
        "          \"Capítulo 6: A Floresta Velha\\nOs hobbits entram na Floresta Velha e logo começam a sentir sua estranheza, como se as árvores estivessem vigiando-os e os odiassem. Eles chegam à Clareira onde os hobbits queimaram uma grande quantidade de árvores há muito tempo atrás. De lá, eles seguem um caminho que os conduz a uma colina que sobe fora da Floresta, e de lá, como eles eventualmente notam, para o Rio Withywindle, a parte central e mais estranha da floresta. Eles querem evitar isso e deixar o caminho, mas acham o terreno sempre mais difícil na direção em que gostariam de ir. Eles caem em um barranco que é muito íngreme para ser escalado novamente e, seguindo-o, chegam ao Withywindle e acham um caminho que corre ao longo dele. Este caminho os traz a um velho salgueiro, perto do qual começam a sentir-se sonolentos de repente. Frodo, Merry e Pippin dormem, e a árvore lança Frodo na água e captura Merry e Pippin debaixo de suas raízes. Sam e Frodo não podem salvá-los, e correm ao longo do caminho, enquanto pedem por ajuda, desesperados. Eles encontram Tom Bombadil, um homem estranho que canta canções absurdas. Tom canta a melodia certa, e o salgueiro liberta Merry e Pippin; então Tom convida os hobits para irem à casa dele, onde vive com Fruta DOuro.\",\n",
        "          \"Capítulo 7: Na Casa de Tom Bombadil\\nEles comem um jantar magnífico e então vão dormir, e cada um deles tem sonhos diferentes e estranhos. No dia os hobbits falam com Tom Bombadil durante o dia inteiro. Tom lhes fala muito sobre a Floresta, os tipos de árvores e animais, o Velho Homem-Salgueiro, e a história antiga da Terra-média, embora de maneira enigmática. Para a surpresa deles, descobrem que o Anel não tem nenhum poder sobre Bombadil. Ele lhes dá conselhos no dia seguinte, e lhes ensina uma rima parra chamá-lo se eles precisarem da ajuda dele.\",\n",
        "          \"Capítulo 8: Névoa nas Colinas dos Túmulos\\nNo dia seguinte, os hobbits deixam a casa de Tom, pretendendo cruzar os Túmulos. Eles fazem um progresso bom pela manhã, e ao redor de meio-dia param para descansar. Estranhamente há um grande pedra fria que se levanta no topo plano de uma colina. Eles adormecem e são despertados por um pôr-do-sol cercado pela névoa. Eles imediatamente se encaminham na direção que eles acreditam ser a mais direta para a Estrada; algum tempo depois Frodo, que estava na frente, passa entre duas pedras paradas e nota que os outros se foram. Ele começa a gritar por ajuda, e é capturado por uma Criatura Tumular. Ele desperta novamente dentro de um túmulo, nota que os outros estão inconscientes perto dele e que uma mão está rastejando na direção deles. Frodo canta a rima que Tom Bombadil tinha lhes ensinado um dia antes, e realmente Tom vem muito rápido, e a luz do dia destrói a Criatura Tumular. Tom desperta os outros três hobits, e dá a cada um deles uma espada, tirada dos tesouros que estavam dentro do túmulo. Ele também traz os pôneis deles que fugiram à noite, e os acompanha durante algum tempo, até as fronteiras das terras dele. Os hobbits partem, e chegam à aldeia de Bri pela noite.\",\n",
        "          \"Capítulo 9: No Pônei Saltitante\\nO hobbits entram no Pônei Saltitante, uma hospedaria grande em Bri. Um grupo diversificado de hóspedes já esta reunido lá: hobbits locais e homens, anões em viagem, homens estranhos do Sul, e um Guardião misterioso conhecido como Passolargo. Depois da ceia, Frodo, Sam e Pippin decidem unir-se aos hóspedes; Pippin chama a atenção contando uma história sobre o Prefeito do Condado e, empolgado, começa a contar sobre a festa de despedida de Bilbo. Frodo não quer mencionar o desaparecimento de Bilbo, e para interromper Pippin salta sobre uma mesa e começa a cantar e dançar. Ele salta e cai da mesa, e enquanto cai o Anel desliza para o dedo dele, e ele desaparece. Isto causa muita ansiedade, e apesar das explicações posteriores a maioria dos hóspedes deixa o aposento. Passolargo parece saber o real nome de Frodo, e a verdadeira causa do seu desaparecimento, e lhe pede que tenham uma conversa depois. Carrapicho, o estalajadeiro, também se lembra de algo e pede para ter uma conversa particular com Frodo.\",\n",
        "          \"Capítulo 10: Passolargo\\nPassolargo vai falar com Frodo, Sam e Pippin. Ele se oferece para ser o guia deles, e parece já saber muito de Frodo; porém, por causa da sua aparência, os hobbits não confiam nele. Então Carrapicho chega e explica que Gandalf tinha deixado uma carta para um certo Frodo Bolseiro, que Carrapicho esquecera de enviar ao Condado há vários meses atrás. Frodo e seus companheiros batem com a descrição que Gandalf dera a Carrapicho, e este dá a carta a Frodo. Entre outras coisas, essa carta contém um conselho de Gandalf para aceitar a ajuda de um amigo seu, um homem chamado Passolargo [com o verdadeiro nome Aragorn], se eles chegassem a conhecê-lo. Assim, Frodo decide aceitar a ajuda dele como um guia para Valfenda. Merry, que saiu para pegar um ar fresco antes, agora volta e conta que viu os Cavaleiros Negros, e parece que eles têm espiões em Bri. Eles decidem não ir para os quartos designados a eles, e dormem no quarto de hóspedes, depois de trancarem as janelas e a porta.\",\n",
        "          \"Capítulo 11: Uma Faca no Escuro\\nNaquela mesma noite, os Cavaleiros Negros arrombam a casa de Frodo em Cricôncavo, descobrem que Frodo não esta lá, e cavalgam para Bri com grande pressa. Eles arrombam a hospedaria, ou mais especificamente o quarto onde os hóspedes hobbits normalmente dormem. Os hobbits não são descobertos, mas todos os cavalos e pôneis da hospedaria fugiram com medo. No dia seguinte eles compram um pônei e mantimentos [muito mais do que eles poderiam carregar em suas costas]; eles vão em direção a Valfenda, e Passolargo os conduz pela floresta para uma colina chamada Topo do Vento, que oferece uma visão de cima de uma área circunvizinha bem grande. Parece que Gandalf tinha estado lá três dias antes deles. Naquela noite eles são atacados por cinco dos Cavaleiros em uma depressão debaixo do Topo do Vento; Frodo não consegue resistir ao desejo de colocar o Anel, e imediatamente depois de fazer isso percebe que ele pode ver os Cavaleiros muito claramente apesar da escuridão. O capitão dos Cavaleiros ataca Frodo, que o golpeia nos pés mas acaba ferido e perde a consciência .\",\n",
        "          \"Capítulo 12: Fuga para o Vau\\nPassolargo faz o melhor possível para curar Frodo, mas este só poderia receber o tratamento em Valfenda, que eles deveriam alcançar o mais cedo possível. Eles cruzam o Rio Fontegris e, evitando a estrada, caminham pelos ermos e acabam alcançando a região dos trolls onde Bilbo tivera a sua primeira aventura tantos anos atrás. Eles têm que cruzar uma linha de colinas para se pôr mais perto novamente da Estrada, já que a única esperança deles de alcançar Valfenda a tempo é seguir a Estrada que cruza o rio Ruidoságua, ou Bruinen, no vau de Bruinen. Na Estrada eles conhecem Glorfindel, um Senhor Élfico que foi enviado de Valfenda para achá-los e ajudá-los. Eles se aproximam do Vau de Bruinen e são emboscados pelos Cavaleiros Negros. Frodo consegue escapar e cruzar o rio no cavalo de Glorfindel. Então uma grande inundação vem rio abaixo e leva os Cavaleiros.\"\n",
        "]"
      ]
    },
    {
      "cell_type": "code",
      "execution_count": null,
      "metadata": {
        "colab": {
          "base_uri": "https://localhost:8080/"
        },
        "id": "9NPV3LcI8UpB",
        "outputId": "de0b54d6-6613-4caf-c25e-ff5a0ba26e5d"
      },
      "outputs": [],
      "source": [
        "# Vetorizador TF-IDF\n",
        "vectorizer = TfidfVectorizer()\n",
        "\n",
        "# Calcular os valores TF-IDF para cada capítulo\n",
        "vetores_tfidf = vectorizer.fit_transform(corpus)\n",
        "\n",
        "# Pedir ao usuário uma palavra\n",
        "palavra_usuario = input(\"Digite uma palavra: \")\n",
        "\n",
        "# Calcular o TF-IDF da palavra em todos os capítulos\n",
        "indices_palavra = vectorizer.vocabulary_.get(palavra_usuario)\n",
        "tfidf_palavra = vetores_tfidf[:, indices_palavra]\n",
        "\n",
        "# Encontrar o capítulo com o maior valor de TF-IDF para a palavra\n",
        "indice_capitulo_relevante = np.argmax(tfidf_palavra)\n",
        "capitulo_relevante = corpus[indice_capitulo_relevante]\n",
        "\n",
        "# Mostrar o capítulo mais relevante e o valor correspondente de TF-IDF\n",
        "print(\"\\nCapítulo mais relevante:\")\n",
        "print(capitulo_relevante)\n",
        "print(\"TF-IDF da palavra\", palavra_usuario + \":\", tfidf_palavra[indice_capitulo_relevante].toarray()[0][0])"
      ]
    }
  ],
  "metadata": {
    "colab": {
      "provenance": []
    },
    "kernelspec": {
      "display_name": "Python 3",
      "name": "python3"
    }
  },
  "nbformat": 4,
  "nbformat_minor": 0
}
